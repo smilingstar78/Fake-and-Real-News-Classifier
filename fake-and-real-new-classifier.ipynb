{
 "cells": [
  {
   "cell_type": "code",
   "execution_count": 1,
   "id": "3a5f7635",
   "metadata": {
    "_cell_guid": "b1076dfc-b9ad-4769-8c92-a6c4dae69d19",
    "_uuid": "8f2839f25d086af736a60e9eeb907d3b93b6e0e5",
    "execution": {
     "iopub.execute_input": "2025-06-28T11:54:49.254513Z",
     "iopub.status.busy": "2025-06-28T11:54:49.254181Z",
     "iopub.status.idle": "2025-06-28T11:54:53.307555Z",
     "shell.execute_reply": "2025-06-28T11:54:53.306717Z"
    },
    "papermill": {
     "duration": 4.062626,
     "end_time": "2025-06-28T11:54:53.309309",
     "exception": false,
     "start_time": "2025-06-28T11:54:49.246683",
     "status": "completed"
    },
    "tags": []
   },
   "outputs": [],
   "source": [
    "import pandas as pd\n",
    "from sklearn.feature_extraction.text import CountVectorizer\n",
    "from sklearn.preprocessing import OneHotEncoder, StandardScaler\n",
    "from sklearn.compose import ColumnTransformer\n",
    "from sklearn.pipeline import Pipeline\n",
    "from sklearn.model_selection import train_test_split\n",
    "from sklearn.tree import DecisionTreeClassifier\n",
    "from sklearn.impute import SimpleImputer"
   ]
  },
  {
   "cell_type": "code",
   "execution_count": 2,
   "id": "1f290b5f",
   "metadata": {
    "execution": {
     "iopub.execute_input": "2025-06-28T11:54:53.320933Z",
     "iopub.status.busy": "2025-06-28T11:54:53.320354Z",
     "iopub.status.idle": "2025-06-28T11:54:56.216369Z",
     "shell.execute_reply": "2025-06-28T11:54:56.215414Z"
    },
    "papermill": {
     "duration": 2.903593,
     "end_time": "2025-06-28T11:54:56.218034",
     "exception": false,
     "start_time": "2025-06-28T11:54:53.314441",
     "status": "completed"
    },
    "tags": []
   },
   "outputs": [],
   "source": [
    "df_fake = pd.read_csv('/kaggle/input/fake-and-real-news-dataset/Fake.csv')\n",
    "df_real = pd.read_csv('/kaggle/input/fake-and-real-news-dataset/True.csv')"
   ]
  },
  {
   "cell_type": "code",
   "execution_count": 3,
   "id": "883630a9",
   "metadata": {
    "execution": {
     "iopub.execute_input": "2025-06-28T11:54:56.229281Z",
     "iopub.status.busy": "2025-06-28T11:54:56.228976Z",
     "iopub.status.idle": "2025-06-28T11:54:56.240417Z",
     "shell.execute_reply": "2025-06-28T11:54:56.239441Z"
    },
    "papermill": {
     "duration": 0.018785,
     "end_time": "2025-06-28T11:54:56.242057",
     "exception": false,
     "start_time": "2025-06-28T11:54:56.223272",
     "status": "completed"
    },
    "tags": []
   },
   "outputs": [],
   "source": [
    "df_fake['label'] = 0\n",
    "df_real['label'] = 1"
   ]
  },
  {
   "cell_type": "code",
   "execution_count": 4,
   "id": "ab60e068",
   "metadata": {
    "execution": {
     "iopub.execute_input": "2025-06-28T11:54:56.252746Z",
     "iopub.status.busy": "2025-06-28T11:54:56.252337Z",
     "iopub.status.idle": "2025-06-28T11:54:56.285116Z",
     "shell.execute_reply": "2025-06-28T11:54:56.283947Z"
    },
    "papermill": {
     "duration": 0.040008,
     "end_time": "2025-06-28T11:54:56.286870",
     "exception": false,
     "start_time": "2025-06-28T11:54:56.246862",
     "status": "completed"
    },
    "tags": []
   },
   "outputs": [],
   "source": [
    "df = pd.concat([df_fake,df_real])\n",
    "df = df.sample(frac=1).reset_index(drop=True)"
   ]
  },
  {
   "cell_type": "code",
   "execution_count": 5,
   "id": "6baca075",
   "metadata": {
    "execution": {
     "iopub.execute_input": "2025-06-28T11:54:56.297537Z",
     "iopub.status.busy": "2025-06-28T11:54:56.297251Z",
     "iopub.status.idle": "2025-06-28T11:54:56.321351Z",
     "shell.execute_reply": "2025-06-28T11:54:56.320326Z"
    },
    "papermill": {
     "duration": 0.0314,
     "end_time": "2025-06-28T11:54:56.323155",
     "exception": false,
     "start_time": "2025-06-28T11:54:56.291755",
     "status": "completed"
    },
    "tags": []
   },
   "outputs": [
    {
     "data": {
      "text/html": [
       "<div>\n",
       "<style scoped>\n",
       "    .dataframe tbody tr th:only-of-type {\n",
       "        vertical-align: middle;\n",
       "    }\n",
       "\n",
       "    .dataframe tbody tr th {\n",
       "        vertical-align: top;\n",
       "    }\n",
       "\n",
       "    .dataframe thead th {\n",
       "        text-align: right;\n",
       "    }\n",
       "</style>\n",
       "<table border=\"1\" class=\"dataframe\">\n",
       "  <thead>\n",
       "    <tr style=\"text-align: right;\">\n",
       "      <th></th>\n",
       "      <th>title</th>\n",
       "      <th>text</th>\n",
       "      <th>subject</th>\n",
       "      <th>date</th>\n",
       "      <th>label</th>\n",
       "    </tr>\n",
       "  </thead>\n",
       "  <tbody>\n",
       "    <tr>\n",
       "      <th>10745</th>\n",
       "      <td>No Ex-President In 100 Yrs Has Set Up A Shadow...</td>\n",
       "      <td>FOX News  Catherine Herridge exposes the dirty...</td>\n",
       "      <td>left-news</td>\n",
       "      <td>Mar 13, 2017</td>\n",
       "      <td>0</td>\n",
       "    </tr>\n",
       "    <tr>\n",
       "      <th>38420</th>\n",
       "      <td>PRESIDENT AND FIRST LADY Attend Military Famil...</td>\n",
       "      <td>President Trump and First Lady Melania Trump a...</td>\n",
       "      <td>politics</td>\n",
       "      <td>Jul 4, 2017</td>\n",
       "      <td>0</td>\n",
       "    </tr>\n",
       "    <tr>\n",
       "      <th>8109</th>\n",
       "      <td>CNN Just Accidentally Aired Girl Flipping Off...</td>\n",
       "      <td>After Donald Trump won the Indiana primary on ...</td>\n",
       "      <td>News</td>\n",
       "      <td>May 4, 2016</td>\n",
       "      <td>0</td>\n",
       "    </tr>\n",
       "    <tr>\n",
       "      <th>31984</th>\n",
       "      <td>NEWSFLASH FOR OUR IMPERIAL PRESIDENT: STATES C...</td>\n",
       "      <td>As Barack Hussein Obama tours around the count...</td>\n",
       "      <td>left-news</td>\n",
       "      <td>Jul 23, 2015</td>\n",
       "      <td>0</td>\n",
       "    </tr>\n",
       "    <tr>\n",
       "      <th>12617</th>\n",
       "      <td>CNN CALLS IT: A Democrat Will Represent Alaba...</td>\n",
       "      <td>Alabama is a notoriously deep red state. It s ...</td>\n",
       "      <td>News</td>\n",
       "      <td>December 12, 2017</td>\n",
       "      <td>0</td>\n",
       "    </tr>\n",
       "  </tbody>\n",
       "</table>\n",
       "</div>"
      ],
      "text/plain": [
       "                                                   title  \\\n",
       "10745  No Ex-President In 100 Yrs Has Set Up A Shadow...   \n",
       "38420  PRESIDENT AND FIRST LADY Attend Military Famil...   \n",
       "8109    CNN Just Accidentally Aired Girl Flipping Off...   \n",
       "31984  NEWSFLASH FOR OUR IMPERIAL PRESIDENT: STATES C...   \n",
       "12617   CNN CALLS IT: A Democrat Will Represent Alaba...   \n",
       "\n",
       "                                                    text    subject  \\\n",
       "10745  FOX News  Catherine Herridge exposes the dirty...  left-news   \n",
       "38420  President Trump and First Lady Melania Trump a...   politics   \n",
       "8109   After Donald Trump won the Indiana primary on ...       News   \n",
       "31984  As Barack Hussein Obama tours around the count...  left-news   \n",
       "12617  Alabama is a notoriously deep red state. It s ...       News   \n",
       "\n",
       "                    date  label  \n",
       "10745       Mar 13, 2017      0  \n",
       "38420        Jul 4, 2017      0  \n",
       "8109         May 4, 2016      0  \n",
       "31984       Jul 23, 2015      0  \n",
       "12617  December 12, 2017      0  "
      ]
     },
     "execution_count": 5,
     "metadata": {},
     "output_type": "execute_result"
    }
   ],
   "source": [
    "df.sample(5)"
   ]
  },
  {
   "cell_type": "code",
   "execution_count": 6,
   "id": "4ba6a708",
   "metadata": {
    "execution": {
     "iopub.execute_input": "2025-06-28T11:54:56.334364Z",
     "iopub.status.busy": "2025-06-28T11:54:56.334077Z",
     "iopub.status.idle": "2025-06-28T11:54:56.437477Z",
     "shell.execute_reply": "2025-06-28T11:54:56.436717Z"
    },
    "papermill": {
     "duration": 0.111359,
     "end_time": "2025-06-28T11:54:56.439625",
     "exception": false,
     "start_time": "2025-06-28T11:54:56.328266",
     "status": "completed"
    },
    "tags": []
   },
   "outputs": [],
   "source": [
    "df['date'] = pd.to_datetime(df['date'],errors='coerce')"
   ]
  },
  {
   "cell_type": "code",
   "execution_count": 7,
   "id": "d28473d0",
   "metadata": {
    "execution": {
     "iopub.execute_input": "2025-06-28T11:54:56.451050Z",
     "iopub.status.busy": "2025-06-28T11:54:56.450693Z",
     "iopub.status.idle": "2025-06-28T11:54:56.461803Z",
     "shell.execute_reply": "2025-06-28T11:54:56.460894Z"
    },
    "papermill": {
     "duration": 0.019229,
     "end_time": "2025-06-28T11:54:56.464141",
     "exception": false,
     "start_time": "2025-06-28T11:54:56.444912",
     "status": "completed"
    },
    "tags": []
   },
   "outputs": [],
   "source": [
    "df['month'] = df['date'].dt.month\n",
    "df['year'] = df['date'].dt.year\n",
    "df['day_of_week'] = df['date'].dt.dayofweek"
   ]
  },
  {
   "cell_type": "code",
   "execution_count": 8,
   "id": "2554c34d",
   "metadata": {
    "execution": {
     "iopub.execute_input": "2025-06-28T11:54:56.475245Z",
     "iopub.status.busy": "2025-06-28T11:54:56.474918Z",
     "iopub.status.idle": "2025-06-28T11:54:56.481124Z",
     "shell.execute_reply": "2025-06-28T11:54:56.480099Z"
    },
    "papermill": {
     "duration": 0.01388,
     "end_time": "2025-06-28T11:54:56.483068",
     "exception": false,
     "start_time": "2025-06-28T11:54:56.469188",
     "status": "completed"
    },
    "tags": []
   },
   "outputs": [],
   "source": [
    "df['was_date_missing'] = df['date'].isna().astype(int)\n"
   ]
  },
  {
   "cell_type": "code",
   "execution_count": 9,
   "id": "5e088d36",
   "metadata": {
    "execution": {
     "iopub.execute_input": "2025-06-28T11:54:56.494295Z",
     "iopub.status.busy": "2025-06-28T11:54:56.493955Z",
     "iopub.status.idle": "2025-06-28T11:54:56.511115Z",
     "shell.execute_reply": "2025-06-28T11:54:56.509930Z"
    },
    "papermill": {
     "duration": 0.024497,
     "end_time": "2025-06-28T11:54:56.512654",
     "exception": false,
     "start_time": "2025-06-28T11:54:56.488157",
     "status": "completed"
    },
    "tags": []
   },
   "outputs": [
    {
     "name": "stderr",
     "output_type": "stream",
     "text": [
      "/usr/local/lib/python3.11/dist-packages/pandas/io/formats/format.py:1458: RuntimeWarning: invalid value encountered in greater\n",
      "  has_large_values = (abs_vals > 1e6).any()\n",
      "/usr/local/lib/python3.11/dist-packages/pandas/io/formats/format.py:1459: RuntimeWarning: invalid value encountered in less\n",
      "  has_small_values = ((abs_vals < 10 ** (-self.digits)) & (abs_vals > 0)).any()\n",
      "/usr/local/lib/python3.11/dist-packages/pandas/io/formats/format.py:1459: RuntimeWarning: invalid value encountered in greater\n",
      "  has_small_values = ((abs_vals < 10 ** (-self.digits)) & (abs_vals > 0)).any()\n"
     ]
    },
    {
     "data": {
      "text/html": [
       "<div>\n",
       "<style scoped>\n",
       "    .dataframe tbody tr th:only-of-type {\n",
       "        vertical-align: middle;\n",
       "    }\n",
       "\n",
       "    .dataframe tbody tr th {\n",
       "        vertical-align: top;\n",
       "    }\n",
       "\n",
       "    .dataframe thead th {\n",
       "        text-align: right;\n",
       "    }\n",
       "</style>\n",
       "<table border=\"1\" class=\"dataframe\">\n",
       "  <thead>\n",
       "    <tr style=\"text-align: right;\">\n",
       "      <th></th>\n",
       "      <th>title</th>\n",
       "      <th>text</th>\n",
       "      <th>subject</th>\n",
       "      <th>date</th>\n",
       "      <th>label</th>\n",
       "      <th>month</th>\n",
       "      <th>year</th>\n",
       "      <th>day_of_week</th>\n",
       "      <th>was_date_missing</th>\n",
       "    </tr>\n",
       "  </thead>\n",
       "  <tbody>\n",
       "    <tr>\n",
       "      <th>0</th>\n",
       "      <td>OFF-DUTY POLICE OFFICER SHOOTS AND KILLS Black...</td>\n",
       "      <td>This is truly a sad and senseless situation. T...</td>\n",
       "      <td>politics</td>\n",
       "      <td>2016-07-10</td>\n",
       "      <td>0</td>\n",
       "      <td>7.0</td>\n",
       "      <td>2016.0</td>\n",
       "      <td>6.0</td>\n",
       "      <td>0</td>\n",
       "    </tr>\n",
       "    <tr>\n",
       "      <th>1</th>\n",
       "      <td>Senate Democrats seek Trump tax returns</td>\n",
       "      <td>WASHINGTON (Reuters) - U.S. Senate Democrats u...</td>\n",
       "      <td>politicsNews</td>\n",
       "      <td>NaT</td>\n",
       "      <td>1</td>\n",
       "      <td>NaN</td>\n",
       "      <td>NaN</td>\n",
       "      <td>NaN</td>\n",
       "      <td>1</td>\n",
       "    </tr>\n",
       "    <tr>\n",
       "      <th>2</th>\n",
       "      <td>MAXINE WATERS: ‘These people trying to ‘discre...</td>\n",
       "      <td>MAXINE GOT A MAKEOVER and is hopping mad about...</td>\n",
       "      <td>politics</td>\n",
       "      <td>2017-07-22</td>\n",
       "      <td>0</td>\n",
       "      <td>7.0</td>\n",
       "      <td>2017.0</td>\n",
       "      <td>5.0</td>\n",
       "      <td>0</td>\n",
       "    </tr>\n",
       "    <tr>\n",
       "      <th>3</th>\n",
       "      <td>MIGRANTS BRUTALLY GANG RAPE 3 YR OLD BOY At As...</td>\n",
       "      <td>The world is stunned by the number of women an...</td>\n",
       "      <td>Government News</td>\n",
       "      <td>2016-01-13</td>\n",
       "      <td>0</td>\n",
       "      <td>1.0</td>\n",
       "      <td>2016.0</td>\n",
       "      <td>2.0</td>\n",
       "      <td>0</td>\n",
       "    </tr>\n",
       "    <tr>\n",
       "      <th>4</th>\n",
       "      <td>Sore Winner: Trump Attacks Clinton With Putin...</td>\n",
       "      <td>If Donald Trump wanted people to think he isn ...</td>\n",
       "      <td>News</td>\n",
       "      <td>NaT</td>\n",
       "      <td>0</td>\n",
       "      <td>NaN</td>\n",
       "      <td>NaN</td>\n",
       "      <td>NaN</td>\n",
       "      <td>1</td>\n",
       "    </tr>\n",
       "  </tbody>\n",
       "</table>\n",
       "</div>"
      ],
      "text/plain": [
       "                                               title  \\\n",
       "0  OFF-DUTY POLICE OFFICER SHOOTS AND KILLS Black...   \n",
       "1            Senate Democrats seek Trump tax returns   \n",
       "2  MAXINE WATERS: ‘These people trying to ‘discre...   \n",
       "3  MIGRANTS BRUTALLY GANG RAPE 3 YR OLD BOY At As...   \n",
       "4   Sore Winner: Trump Attacks Clinton With Putin...   \n",
       "\n",
       "                                                text          subject  \\\n",
       "0  This is truly a sad and senseless situation. T...         politics   \n",
       "1  WASHINGTON (Reuters) - U.S. Senate Democrats u...     politicsNews   \n",
       "2  MAXINE GOT A MAKEOVER and is hopping mad about...         politics   \n",
       "3  The world is stunned by the number of women an...  Government News   \n",
       "4  If Donald Trump wanted people to think he isn ...             News   \n",
       "\n",
       "        date  label  month    year  day_of_week  was_date_missing  \n",
       "0 2016-07-10      0    7.0  2016.0          6.0                 0  \n",
       "1        NaT      1    NaN     NaN          NaN                 1  \n",
       "2 2017-07-22      0    7.0  2017.0          5.0                 0  \n",
       "3 2016-01-13      0    1.0  2016.0          2.0                 0  \n",
       "4        NaT      0    NaN     NaN          NaN                 1  "
      ]
     },
     "execution_count": 9,
     "metadata": {},
     "output_type": "execute_result"
    }
   ],
   "source": [
    "df.head()"
   ]
  },
  {
   "cell_type": "code",
   "execution_count": 10,
   "id": "8a573f0a",
   "metadata": {
    "execution": {
     "iopub.execute_input": "2025-06-28T11:54:56.525020Z",
     "iopub.status.busy": "2025-06-28T11:54:56.524632Z",
     "iopub.status.idle": "2025-06-28T11:54:56.538928Z",
     "shell.execute_reply": "2025-06-28T11:54:56.537789Z"
    },
    "papermill": {
     "duration": 0.022824,
     "end_time": "2025-06-28T11:54:56.540776",
     "exception": false,
     "start_time": "2025-06-28T11:54:56.517952",
     "status": "completed"
    },
    "tags": []
   },
   "outputs": [],
   "source": [
    "df=df.drop(['date'],axis=1)"
   ]
  },
  {
   "cell_type": "code",
   "execution_count": 11,
   "id": "e39e8d43",
   "metadata": {
    "execution": {
     "iopub.execute_input": "2025-06-28T11:54:56.554773Z",
     "iopub.status.busy": "2025-06-28T11:54:56.553792Z",
     "iopub.status.idle": "2025-06-28T11:54:56.580512Z",
     "shell.execute_reply": "2025-06-28T11:54:56.579576Z"
    },
    "papermill": {
     "duration": 0.035012,
     "end_time": "2025-06-28T11:54:56.582220",
     "exception": false,
     "start_time": "2025-06-28T11:54:56.547208",
     "status": "completed"
    },
    "tags": []
   },
   "outputs": [],
   "source": [
    "X_train, X_test, y_train, y_test = train_test_split(df.drop(['label'],axis=1),\n",
    "                                                   df['label'],\n",
    "                                                   random_state=2,\n",
    "                                                   test_size=0.2)"
   ]
  },
  {
   "cell_type": "code",
   "execution_count": 12,
   "id": "a94c64aa",
   "metadata": {
    "execution": {
     "iopub.execute_input": "2025-06-28T11:54:56.593924Z",
     "iopub.status.busy": "2025-06-28T11:54:56.593571Z",
     "iopub.status.idle": "2025-06-28T11:54:56.598579Z",
     "shell.execute_reply": "2025-06-28T11:54:56.597525Z"
    },
    "papermill": {
     "duration": 0.012701,
     "end_time": "2025-06-28T11:54:56.600166",
     "exception": false,
     "start_time": "2025-06-28T11:54:56.587465",
     "status": "completed"
    },
    "tags": []
   },
   "outputs": [],
   "source": [
    "ohe = OneHotEncoder(handle_unknown='ignore')\n",
    "vect = CountVectorizer(stop_words='english')\n",
    "std = StandardScaler()\n",
    "imputer = SimpleImputer(strategy='most_frequent')"
   ]
  },
  {
   "cell_type": "code",
   "execution_count": 13,
   "id": "5ddd3296",
   "metadata": {
    "execution": {
     "iopub.execute_input": "2025-06-28T11:54:56.611585Z",
     "iopub.status.busy": "2025-06-28T11:54:56.611300Z",
     "iopub.status.idle": "2025-06-28T11:54:56.615777Z",
     "shell.execute_reply": "2025-06-28T11:54:56.614883Z"
    },
    "papermill": {
     "duration": 0.012109,
     "end_time": "2025-06-28T11:54:56.617488",
     "exception": false,
     "start_time": "2025-06-28T11:54:56.605379",
     "status": "completed"
    },
    "tags": []
   },
   "outputs": [],
   "source": [
    "num_pipe = Pipeline(steps=[\n",
    "    ('imputer', SimpleImputer(strategy='most_frequent')),  # or 'median'\n",
    "    ('scaler', StandardScaler())\n",
    "])"
   ]
  },
  {
   "cell_type": "code",
   "execution_count": 14,
   "id": "ce8e03b0",
   "metadata": {
    "execution": {
     "iopub.execute_input": "2025-06-28T11:54:56.630906Z",
     "iopub.status.busy": "2025-06-28T11:54:56.630581Z",
     "iopub.status.idle": "2025-06-28T11:54:56.635712Z",
     "shell.execute_reply": "2025-06-28T11:54:56.634858Z"
    },
    "papermill": {
     "duration": 0.012765,
     "end_time": "2025-06-28T11:54:56.637296",
     "exception": false,
     "start_time": "2025-06-28T11:54:56.624531",
     "status": "completed"
    },
    "tags": []
   },
   "outputs": [],
   "source": [
    "transformer = ColumnTransformer(transformers=[\n",
    "    ('ohe',ohe, ['subject']),\n",
    "    ('vectorization',vect,'title'),\n",
    "    ('vectorization2',vect,'text'),\n",
    "    ('num', num_pipe, ['month','year','day_of_week'])\n",
    "],remainder='passthrough')"
   ]
  },
  {
   "cell_type": "code",
   "execution_count": 15,
   "id": "c6d61d18",
   "metadata": {
    "execution": {
     "iopub.execute_input": "2025-06-28T11:54:56.648749Z",
     "iopub.status.busy": "2025-06-28T11:54:56.648464Z",
     "iopub.status.idle": "2025-06-28T11:55:11.285075Z",
     "shell.execute_reply": "2025-06-28T11:55:11.284183Z"
    },
    "papermill": {
     "duration": 14.644482,
     "end_time": "2025-06-28T11:55:11.286940",
     "exception": false,
     "start_time": "2025-06-28T11:54:56.642458",
     "status": "completed"
    },
    "tags": []
   },
   "outputs": [],
   "source": [
    "X_train_trf = transformer.fit_transform(X_train)\n",
    "X_test_trf = transformer.transform(X_test)"
   ]
  },
  {
   "cell_type": "code",
   "execution_count": 16,
   "id": "6b85ac53",
   "metadata": {
    "execution": {
     "iopub.execute_input": "2025-06-28T11:55:11.299006Z",
     "iopub.status.busy": "2025-06-28T11:55:11.298645Z",
     "iopub.status.idle": "2025-06-28T11:55:11.303898Z",
     "shell.execute_reply": "2025-06-28T11:55:11.302680Z"
    },
    "papermill": {
     "duration": 0.013055,
     "end_time": "2025-06-28T11:55:11.305589",
     "exception": false,
     "start_time": "2025-06-28T11:55:11.292534",
     "status": "completed"
    },
    "tags": []
   },
   "outputs": [],
   "source": [
    "dtc = DecisionTreeClassifier(criterion='gini',splitter='random',max_depth=10)"
   ]
  },
  {
   "cell_type": "code",
   "execution_count": 17,
   "id": "de95c0ab",
   "metadata": {
    "execution": {
     "iopub.execute_input": "2025-06-28T11:55:11.317263Z",
     "iopub.status.busy": "2025-06-28T11:55:11.316897Z",
     "iopub.status.idle": "2025-06-28T11:55:12.256597Z",
     "shell.execute_reply": "2025-06-28T11:55:12.255603Z"
    },
    "papermill": {
     "duration": 0.947336,
     "end_time": "2025-06-28T11:55:12.258199",
     "exception": false,
     "start_time": "2025-06-28T11:55:11.310863",
     "status": "completed"
    },
    "tags": []
   },
   "outputs": [
    {
     "data": {
      "text/html": [
       "<style>#sk-container-id-1 {color: black;background-color: white;}#sk-container-id-1 pre{padding: 0;}#sk-container-id-1 div.sk-toggleable {background-color: white;}#sk-container-id-1 label.sk-toggleable__label {cursor: pointer;display: block;width: 100%;margin-bottom: 0;padding: 0.3em;box-sizing: border-box;text-align: center;}#sk-container-id-1 label.sk-toggleable__label-arrow:before {content: \"▸\";float: left;margin-right: 0.25em;color: #696969;}#sk-container-id-1 label.sk-toggleable__label-arrow:hover:before {color: black;}#sk-container-id-1 div.sk-estimator:hover label.sk-toggleable__label-arrow:before {color: black;}#sk-container-id-1 div.sk-toggleable__content {max-height: 0;max-width: 0;overflow: hidden;text-align: left;background-color: #f0f8ff;}#sk-container-id-1 div.sk-toggleable__content pre {margin: 0.2em;color: black;border-radius: 0.25em;background-color: #f0f8ff;}#sk-container-id-1 input.sk-toggleable__control:checked~div.sk-toggleable__content {max-height: 200px;max-width: 100%;overflow: auto;}#sk-container-id-1 input.sk-toggleable__control:checked~label.sk-toggleable__label-arrow:before {content: \"▾\";}#sk-container-id-1 div.sk-estimator input.sk-toggleable__control:checked~label.sk-toggleable__label {background-color: #d4ebff;}#sk-container-id-1 div.sk-label input.sk-toggleable__control:checked~label.sk-toggleable__label {background-color: #d4ebff;}#sk-container-id-1 input.sk-hidden--visually {border: 0;clip: rect(1px 1px 1px 1px);clip: rect(1px, 1px, 1px, 1px);height: 1px;margin: -1px;overflow: hidden;padding: 0;position: absolute;width: 1px;}#sk-container-id-1 div.sk-estimator {font-family: monospace;background-color: #f0f8ff;border: 1px dotted black;border-radius: 0.25em;box-sizing: border-box;margin-bottom: 0.5em;}#sk-container-id-1 div.sk-estimator:hover {background-color: #d4ebff;}#sk-container-id-1 div.sk-parallel-item::after {content: \"\";width: 100%;border-bottom: 1px solid gray;flex-grow: 1;}#sk-container-id-1 div.sk-label:hover label.sk-toggleable__label {background-color: #d4ebff;}#sk-container-id-1 div.sk-serial::before {content: \"\";position: absolute;border-left: 1px solid gray;box-sizing: border-box;top: 0;bottom: 0;left: 50%;z-index: 0;}#sk-container-id-1 div.sk-serial {display: flex;flex-direction: column;align-items: center;background-color: white;padding-right: 0.2em;padding-left: 0.2em;position: relative;}#sk-container-id-1 div.sk-item {position: relative;z-index: 1;}#sk-container-id-1 div.sk-parallel {display: flex;align-items: stretch;justify-content: center;background-color: white;position: relative;}#sk-container-id-1 div.sk-item::before, #sk-container-id-1 div.sk-parallel-item::before {content: \"\";position: absolute;border-left: 1px solid gray;box-sizing: border-box;top: 0;bottom: 0;left: 50%;z-index: -1;}#sk-container-id-1 div.sk-parallel-item {display: flex;flex-direction: column;z-index: 1;position: relative;background-color: white;}#sk-container-id-1 div.sk-parallel-item:first-child::after {align-self: flex-end;width: 50%;}#sk-container-id-1 div.sk-parallel-item:last-child::after {align-self: flex-start;width: 50%;}#sk-container-id-1 div.sk-parallel-item:only-child::after {width: 0;}#sk-container-id-1 div.sk-dashed-wrapped {border: 1px dashed gray;margin: 0 0.4em 0.5em 0.4em;box-sizing: border-box;padding-bottom: 0.4em;background-color: white;}#sk-container-id-1 div.sk-label label {font-family: monospace;font-weight: bold;display: inline-block;line-height: 1.2em;}#sk-container-id-1 div.sk-label-container {text-align: center;}#sk-container-id-1 div.sk-container {/* jupyter's `normalize.less` sets `[hidden] { display: none; }` but bootstrap.min.css set `[hidden] { display: none !important; }` so we also need the `!important` here to be able to override the default hidden behavior on the sphinx rendered scikit-learn.org. See: https://github.com/scikit-learn/scikit-learn/issues/21755 */display: inline-block !important;position: relative;}#sk-container-id-1 div.sk-text-repr-fallback {display: none;}</style><div id=\"sk-container-id-1\" class=\"sk-top-container\"><div class=\"sk-text-repr-fallback\"><pre>DecisionTreeClassifier(max_depth=10, splitter=&#x27;random&#x27;)</pre><b>In a Jupyter environment, please rerun this cell to show the HTML representation or trust the notebook. <br />On GitHub, the HTML representation is unable to render, please try loading this page with nbviewer.org.</b></div><div class=\"sk-container\" hidden><div class=\"sk-item\"><div class=\"sk-estimator sk-toggleable\"><input class=\"sk-toggleable__control sk-hidden--visually\" id=\"sk-estimator-id-1\" type=\"checkbox\" checked><label for=\"sk-estimator-id-1\" class=\"sk-toggleable__label sk-toggleable__label-arrow\">DecisionTreeClassifier</label><div class=\"sk-toggleable__content\"><pre>DecisionTreeClassifier(max_depth=10, splitter=&#x27;random&#x27;)</pre></div></div></div></div></div>"
      ],
      "text/plain": [
       "DecisionTreeClassifier(max_depth=10, splitter='random')"
      ]
     },
     "execution_count": 17,
     "metadata": {},
     "output_type": "execute_result"
    }
   ],
   "source": [
    "dtc.fit(X_train_trf, y_train)"
   ]
  },
  {
   "cell_type": "code",
   "execution_count": 18,
   "id": "a73e0d3e",
   "metadata": {
    "execution": {
     "iopub.execute_input": "2025-06-28T11:55:12.270814Z",
     "iopub.status.busy": "2025-06-28T11:55:12.270289Z",
     "iopub.status.idle": "2025-06-28T11:55:12.289706Z",
     "shell.execute_reply": "2025-06-28T11:55:12.288679Z"
    },
    "papermill": {
     "duration": 0.027642,
     "end_time": "2025-06-28T11:55:12.291370",
     "exception": false,
     "start_time": "2025-06-28T11:55:12.263728",
     "status": "completed"
    },
    "tags": []
   },
   "outputs": [],
   "source": [
    "y_pred = dtc.predict(X_test_trf)"
   ]
  },
  {
   "cell_type": "code",
   "execution_count": 19,
   "id": "522e8e1a",
   "metadata": {
    "execution": {
     "iopub.execute_input": "2025-06-28T11:55:12.303584Z",
     "iopub.status.busy": "2025-06-28T11:55:12.302604Z",
     "iopub.status.idle": "2025-06-28T11:55:12.307191Z",
     "shell.execute_reply": "2025-06-28T11:55:12.306308Z"
    },
    "papermill": {
     "duration": 0.012242,
     "end_time": "2025-06-28T11:55:12.308820",
     "exception": false,
     "start_time": "2025-06-28T11:55:12.296578",
     "status": "completed"
    },
    "tags": []
   },
   "outputs": [],
   "source": [
    "from sklearn.metrics import recall_score, confusion_matrix"
   ]
  },
  {
   "cell_type": "code",
   "execution_count": 20,
   "id": "17ddf572",
   "metadata": {
    "execution": {
     "iopub.execute_input": "2025-06-28T11:55:12.321001Z",
     "iopub.status.busy": "2025-06-28T11:55:12.320646Z",
     "iopub.status.idle": "2025-06-28T11:55:12.332981Z",
     "shell.execute_reply": "2025-06-28T11:55:12.332191Z"
    },
    "papermill": {
     "duration": 0.020182,
     "end_time": "2025-06-28T11:55:12.334467",
     "exception": false,
     "start_time": "2025-06-28T11:55:12.314285",
     "status": "completed"
    },
    "tags": []
   },
   "outputs": [
    {
     "data": {
      "text/plain": [
       "1.0"
      ]
     },
     "execution_count": 20,
     "metadata": {},
     "output_type": "execute_result"
    }
   ],
   "source": [
    "recall_score(y_test,y_pred)"
   ]
  },
  {
   "cell_type": "code",
   "execution_count": 21,
   "id": "a67134e3",
   "metadata": {
    "execution": {
     "iopub.execute_input": "2025-06-28T11:55:12.347058Z",
     "iopub.status.busy": "2025-06-28T11:55:12.346167Z",
     "iopub.status.idle": "2025-06-28T11:55:12.354552Z",
     "shell.execute_reply": "2025-06-28T11:55:12.353692Z"
    },
    "papermill": {
     "duration": 0.016053,
     "end_time": "2025-06-28T11:55:12.355997",
     "exception": false,
     "start_time": "2025-06-28T11:55:12.339944",
     "status": "completed"
    },
    "tags": []
   },
   "outputs": [
    {
     "data": {
      "text/plain": [
       "array([[4703,    1],\n",
       "       [   0, 4276]])"
      ]
     },
     "execution_count": 21,
     "metadata": {},
     "output_type": "execute_result"
    }
   ],
   "source": [
    "confusion_matrix(y_test, y_pred)"
   ]
  },
  {
   "cell_type": "code",
   "execution_count": 22,
   "id": "8c608f0e",
   "metadata": {
    "execution": {
     "iopub.execute_input": "2025-06-28T11:55:12.368349Z",
     "iopub.status.busy": "2025-06-28T11:55:12.368018Z",
     "iopub.status.idle": "2025-06-28T11:55:12.374025Z",
     "shell.execute_reply": "2025-06-28T11:55:12.372917Z"
    },
    "papermill": {
     "duration": 0.013778,
     "end_time": "2025-06-28T11:55:12.375461",
     "exception": false,
     "start_time": "2025-06-28T11:55:12.361683",
     "status": "completed"
    },
    "tags": []
   },
   "outputs": [],
   "source": [
    "new_data = pd.DataFrame({\n",
    "    'subject': ['politicsNews', 'worldNews'],\n",
    "    'title': [\n",
    "        'President addresses new reforms in conference',\n",
    "        'New alien species discovered in the Arctic'\n",
    "    ],\n",
    "    'text': [\n",
    "        'The government introduced new tax reforms and policies in today\\'s speech.',\n",
    "        'Scientists have confirmed sightings of strange creatures in the cold tundra.'\n",
    "    ],\n",
    "    'month': [6, 11],\n",
    "    'year': [2024, 2023],\n",
    "    'day_of_week': [2, 6]\n",
    "})"
   ]
  },
  {
   "cell_type": "code",
   "execution_count": 23,
   "id": "1eddb5ce",
   "metadata": {
    "execution": {
     "iopub.execute_input": "2025-06-28T11:55:12.387299Z",
     "iopub.status.busy": "2025-06-28T11:55:12.386992Z",
     "iopub.status.idle": "2025-06-28T11:55:12.391765Z",
     "shell.execute_reply": "2025-06-28T11:55:12.390903Z"
    },
    "papermill": {
     "duration": 0.012478,
     "end_time": "2025-06-28T11:55:12.393271",
     "exception": false,
     "start_time": "2025-06-28T11:55:12.380793",
     "status": "completed"
    },
    "tags": []
   },
   "outputs": [],
   "source": [
    "new_data['was_date_missing'] = [0, 0] \n"
   ]
  },
  {
   "cell_type": "code",
   "execution_count": 24,
   "id": "933b6e10",
   "metadata": {
    "execution": {
     "iopub.execute_input": "2025-06-28T11:55:12.405878Z",
     "iopub.status.busy": "2025-06-28T11:55:12.405495Z",
     "iopub.status.idle": "2025-06-28T11:55:12.418321Z",
     "shell.execute_reply": "2025-06-28T11:55:12.417315Z"
    },
    "papermill": {
     "duration": 0.020969,
     "end_time": "2025-06-28T11:55:12.419723",
     "exception": false,
     "start_time": "2025-06-28T11:55:12.398754",
     "status": "completed"
    },
    "tags": []
   },
   "outputs": [],
   "source": [
    "new_data_trf = transformer.transform(new_data)"
   ]
  },
  {
   "cell_type": "code",
   "execution_count": 25,
   "id": "d417a136",
   "metadata": {
    "execution": {
     "iopub.execute_input": "2025-06-28T11:55:12.431649Z",
     "iopub.status.busy": "2025-06-28T11:55:12.431337Z",
     "iopub.status.idle": "2025-06-28T11:55:12.437078Z",
     "shell.execute_reply": "2025-06-28T11:55:12.436051Z"
    },
    "papermill": {
     "duration": 0.013271,
     "end_time": "2025-06-28T11:55:12.438427",
     "exception": false,
     "start_time": "2025-06-28T11:55:12.425156",
     "status": "completed"
    },
    "tags": []
   },
   "outputs": [
    {
     "name": "stdout",
     "output_type": "stream",
     "text": [
      "[0 0]\n"
     ]
    }
   ],
   "source": [
    "prediction = dtc.predict(new_data_trf)\n",
    "print(prediction)\n"
   ]
  },
  {
   "cell_type": "code",
   "execution_count": 26,
   "id": "0a38b822",
   "metadata": {
    "execution": {
     "iopub.execute_input": "2025-06-28T11:55:12.450708Z",
     "iopub.status.busy": "2025-06-28T11:55:12.450402Z",
     "iopub.status.idle": "2025-06-28T11:55:12.456692Z",
     "shell.execute_reply": "2025-06-28T11:55:12.455394Z"
    },
    "papermill": {
     "duration": 0.014422,
     "end_time": "2025-06-28T11:55:12.458383",
     "exception": false,
     "start_time": "2025-06-28T11:55:12.443961",
     "status": "completed"
    },
    "tags": []
   },
   "outputs": [
    {
     "name": "stdout",
     "output_type": "stream",
     "text": [
      "[[1. 0.]\n",
      " [1. 0.]]\n"
     ]
    }
   ],
   "source": [
    "probs = dtc.predict_proba(new_data_trf)\n",
    "print(probs)\n"
   ]
  },
  {
   "cell_type": "code",
   "execution_count": null,
   "id": "f1212840",
   "metadata": {
    "papermill": {
     "duration": 0.005766,
     "end_time": "2025-06-28T11:55:12.470463",
     "exception": false,
     "start_time": "2025-06-28T11:55:12.464697",
     "status": "completed"
    },
    "tags": []
   },
   "outputs": [],
   "source": []
  }
 ],
 "metadata": {
  "kaggle": {
   "accelerator": "none",
   "dataSources": [
    {
     "datasetId": 4831777,
     "sourceId": 8165591,
     "sourceType": "datasetVersion"
    }
   ],
   "dockerImageVersionId": 31040,
   "isGpuEnabled": false,
   "isInternetEnabled": true,
   "language": "python",
   "sourceType": "notebook"
  },
  "kernelspec": {
   "display_name": "Python 3",
   "language": "python",
   "name": "python3"
  },
  "language_info": {
   "codemirror_mode": {
    "name": "ipython",
    "version": 3
   },
   "file_extension": ".py",
   "mimetype": "text/x-python",
   "name": "python",
   "nbconvert_exporter": "python",
   "pygments_lexer": "ipython3",
   "version": "3.11.11"
  },
  "papermill": {
   "default_parameters": {},
   "duration": 29.026202,
   "end_time": "2025-06-28T11:55:13.197802",
   "environment_variables": {},
   "exception": null,
   "input_path": "__notebook__.ipynb",
   "output_path": "__notebook__.ipynb",
   "parameters": {},
   "start_time": "2025-06-28T11:54:44.171600",
   "version": "2.6.0"
  }
 },
 "nbformat": 4,
 "nbformat_minor": 5
}
